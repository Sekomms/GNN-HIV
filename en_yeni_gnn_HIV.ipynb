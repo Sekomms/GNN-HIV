{
  "cells": [
    {
      "cell_type": "markdown",
      "metadata": {
        "id": "view-in-github",
        "colab_type": "text"
      },
      "source": [
        "<a href=\"https://colab.research.google.com/github/Sekomms/GNN-HIV/blob/main/en_yeni_gnn_HIV.ipynb\" target=\"_parent\"><img src=\"https://colab.research.google.com/assets/colab-badge.svg\" alt=\"Open In Colab\"/></a>"
      ]
    },
    {
      "cell_type": "markdown",
      "metadata": {
        "id": "CwFAv63_kj1T"
      },
      "source": [
        "\n",
        "\n",
        "> # Burada Gerekli Kütüphaneleri colab'ın bize verdiği device içerisine kuruyoruz\n",
        "\n"
      ]
    },
    {
      "cell_type": "code",
      "execution_count": null,
      "metadata": {
        "id": "JNUq2j5wKv5z",
        "colab": {
          "base_uri": "https://localhost:8080/"
        },
        "outputId": "fe0193cd-56ec-43d4-f996-39a3348721ff"
      },
      "outputs": [
        {
          "output_type": "stream",
          "name": "stdout",
          "text": [
            "git version 2.34.1\n"
          ]
        }
      ],
      "source": [
        "!pip -q install rdkit-pypi\n",
        "!pip -q install pandas\n",
        "!pip -q install Pillow\n",
        "!pip -q install matplotlib\n",
        "!pip -q install pydot\n",
        "!sudo apt-get -qq install graphviz\n"
      ]
    },
    {
      "cell_type": "markdown",
      "metadata": {
        "id": "pvXvU2Kwkx9L"
      },
      "source": [
        "\n",
        "\n",
        "> # Kütüphanelerin import edilmesi\n",
        "\n"
      ]
    },
    {
      "cell_type": "code",
      "execution_count": null,
      "metadata": {
        "id": "vqu06Z1MLIuC"
      },
      "outputs": [],
      "source": [
        "import os\n",
        "import tensorflow as tf\n",
        "from tensorflow import keras\n",
        "from tensorflow.keras import layers\n",
        "from sklearn.metrics import roc_auc_score\n",
        "import keras.backend as K\n",
        "import numpy as np\n",
        "import pandas as pd\n",
        "import matplotlib.pyplot as plt\n",
        "import rdkit\n",
        "from rdkit import Chem\n",
        "import matplotlib\n",
        "from rdkit.Chem.Draw import IPythonConsole\n",
        "from rdkit.Chem.Draw import MolsToGridImage\n",
        "from sklearn.metrics import roc_curve\n",
        "from sklearn.metrics import auc\n",
        "np.random.seed(42)\n",
        "tf.random.set_seed(42)"
      ]
    },
    {
      "cell_type": "code",
      "execution_count": null,
      "metadata": {
        "id": "Jneum979zm7h",
        "colab": {
          "base_uri": "https://localhost:8080/"
        },
        "outputId": "885fce96-e3ea-40fe-da79-7ac1ff8a62d4"
      },
      "outputs": [
        {
          "metadata": {
            "tags": null
          },
          "name": "stdout",
          "output_type": "stream",
          "text": [
            "3.7.1\n"
          ]
        }
      ],
      "source": [
        "print(matplotlib.__version__)"
      ]
    },
    {
      "cell_type": "markdown",
      "metadata": {
        "id": "uRcDB1AFi4t8"
      },
      "source": [
        "\n",
        "> # Veriseti Okuma\n",
        "\n",
        "Burada benim github hesabıma bağlanarak verisetini çekip bir pandas dataframe haline getiriyoruz"
      ]
    },
    {
      "cell_type": "code",
      "execution_count": null,
      "metadata": {
        "id": "o9c4RWDdLPc7",
        "colab": {
          "base_uri": "https://localhost:8080/",
          "height": 452
        },
        "outputId": "1599daed-d11b-4f6b-f8f7-de48e75ad7b3"
      },
      "outputs": [
        {
          "metadata": {
            "tags": null
          },
          "name": "stdout",
          "output_type": "stream",
          "text": [
            "Downloading data from https://raw.githubusercontent.com/McahitKutsal/hivcsv/main/HIV7.csv\n",
            "\u001b[1m158661/158661\u001b[0m \u001b[32m━━━━━━━━━━━━━━━━━━━━\u001b[0m\u001b[37m\u001b[0m \u001b[1m0s\u001b[0m 0us/step\n"
          ]
        },
        {
          "data": {
            "image/png": "[encoded data removed]",
            "text/plain": [
              "<IPython.core.display.Image object>"
            ]
          },
          "execution_count": 5,
          "metadata": {},
          "output_type": "execute_result"
        }
      ],
      "source": [
        "\n",
        "csv_path = keras.utils.get_file(\n",
        "    \"HIV7.csv\", \"https://raw.githubusercontent.com/McahitKutsal/hivcsv/main/HIV7.csv\"\n",
        ")\n",
        "\n",
        "\n",
        "df = pd.read_csv(csv_path)\n",
        "sample = df[\"smiles\"][100:101].values\n",
        "molecules = [Chem.MolFromSmiles(smiles) for smiles in sample]\n",
        "grid = MolsToGridImage(molecules, molsPerRow=1, subImgSize=(400,400))\n",
        "df[\"smiles\"][100:101].values\n",
        "grid"
      ]
    },
    {
      "cell_type": "code",
      "source": [
        "#test verisi\n",
        "# HIV_active sütununa sahip hive dosyasını yükleyin\n",
        "hive_df = pd.read_csv('/content/dosya_yeni7.csv')\n",
        "sample2 = hive_df[\"smiles\"][0:16].values\n",
        "molecules2 = [Chem.MolFromSmiles(smiles) for smiles in sample2]\n",
        "grid2 = MolsToGridImage(molecules2, molsPerRow=2, subImgSize=(400,400))\n",
        "hive_df[\"smiles\"][0:16].values\n",
        "grid2\n",
        "# smiles sütunundan RDKit molekülleri oluşturun\n"
      ],
      "metadata": {
        "id": "kH_JpKpmG52K",
        "colab": {
          "base_uri": "https://localhost:8080/",
          "height": 356
        },
        "outputId": "026881ec-28d3-4a9c-cf79-1b9bae8b2a56"
      },
      "execution_count": null,
      "outputs": [
        {
          "ename": "FileNotFoundError",
          "evalue": "[Errno 2] No such file or directory: '/content/dosya_yeni7.csv'",
          "output_type": "error",
          "traceback": [
            "\u001b[0;31m---------------------------------------------------------------------------\u001b[0m",
            "\u001b[0;31mFileNotFoundError\u001b[0m                         Traceback (most recent call last)",
            "\u001b[0;32m<ipython-input-6-428b8175ea99>\u001b[0m in \u001b[0;36m<cell line: 3>\u001b[0;34m()\u001b[0m\n\u001b[1;32m      1\u001b[0m \u001b[0;31m#test verisi\u001b[0m\u001b[0;34m\u001b[0m\u001b[0;34m\u001b[0m\u001b[0m\n\u001b[1;32m      2\u001b[0m \u001b[0;31m# HIV_active sütununa sahip hive dosyasını yükleyin\u001b[0m\u001b[0;34m\u001b[0m\u001b[0;34m\u001b[0m\u001b[0m\n\u001b[0;32m----> 3\u001b[0;31m \u001b[0mhive_df\u001b[0m \u001b[0;34m=\u001b[0m \u001b[0mpd\u001b[0m\u001b[0;34m.\u001b[0m\u001b[0mread_csv\u001b[0m\u001b[0;34m(\u001b[0m\u001b[0;34m'/content/dosya_yeni7.csv'\u001b[0m\u001b[0;34m)\u001b[0m\u001b[0;34m\u001b[0m\u001b[0;34m\u001b[0m\u001b[0m\n\u001b[0m\u001b[1;32m      4\u001b[0m \u001b[0msample2\u001b[0m \u001b[0;34m=\u001b[0m \u001b[0mhive_df\u001b[0m\u001b[0;34m[\u001b[0m\u001b[0;34m\"smiles\"\u001b[0m\u001b[0;34m]\u001b[0m\u001b[0;34m[\u001b[0m\u001b[0;36m0\u001b[0m\u001b[0;34m:\u001b[0m\u001b[0;36m16\u001b[0m\u001b[0;34m]\u001b[0m\u001b[0;34m.\u001b[0m\u001b[0mvalues\u001b[0m\u001b[0;34m\u001b[0m\u001b[0;34m\u001b[0m\u001b[0m\n\u001b[1;32m      5\u001b[0m \u001b[0mmolecules2\u001b[0m \u001b[0;34m=\u001b[0m \u001b[0;34m[\u001b[0m\u001b[0mChem\u001b[0m\u001b[0;34m.\u001b[0m\u001b[0mMolFromSmiles\u001b[0m\u001b[0;34m(\u001b[0m\u001b[0msmiles\u001b[0m\u001b[0;34m)\u001b[0m \u001b[0;32mfor\u001b[0m \u001b[0msmiles\u001b[0m \u001b[0;32min\u001b[0m \u001b[0msample2\u001b[0m\u001b[0;34m]\u001b[0m\u001b[0;34m\u001b[0m\u001b[0;34m\u001b[0m\u001b[0m\n",
            "\u001b[0;32m/usr/local/lib/python3.10/dist-packages/pandas/io/parsers/readers.py\u001b[0m in \u001b[0;36mread_csv\u001b[0;34m(filepath_or_buffer, sep, delimiter, header, names, index_col, usecols, dtype, engine, converters, true_values, false_values, skipinitialspace, skiprows, skipfooter, nrows, na_values, keep_default_na, na_filter, verbose, skip_blank_lines, parse_dates, infer_datetime_format, keep_date_col, date_parser, date_format, dayfirst, cache_dates, iterator, chunksize, compression, thousands, decimal, lineterminator, quotechar, quoting, doublequote, escapechar, comment, encoding, encoding_errors, dialect, on_bad_lines, delim_whitespace, low_memory, memory_map, float_precision, storage_options, dtype_backend)\u001b[0m\n\u001b[1;32m   1024\u001b[0m     \u001b[0mkwds\u001b[0m\u001b[0;34m.\u001b[0m\u001b[0mupdate\u001b[0m\u001b[0;34m(\u001b[0m\u001b[0mkwds_defaults\u001b[0m\u001b[0;34m)\u001b[0m\u001b[0;34m\u001b[0m\u001b[0;34m\u001b[0m\u001b[0m\n\u001b[1;32m   1025\u001b[0m \u001b[0;34m\u001b[0m\u001b[0m\n\u001b[0;32m-> 1026\u001b[0;31m     \u001b[0;32mreturn\u001b[0m \u001b[0m_read\u001b[0m\u001b[0;34m(\u001b[0m\u001b[0mfilepath_or_buffer\u001b[0m\u001b[0;34m,\u001b[0m \u001b[0mkwds\u001b[0m\u001b[0;34m)\u001b[0m\u001b[0;34m\u001b[0m\u001b[0;34m\u001b[0m\u001b[0m\n\u001b[0m\u001b[1;32m   1027\u001b[0m \u001b[0;34m\u001b[0m\u001b[0m\n\u001b[1;32m   1028\u001b[0m \u001b[0;34m\u001b[0m\u001b[0m\n",
            "\u001b[0;32m/usr/local/lib/python3.10/dist-packages/pandas/io/parsers/readers.py\u001b[0m in \u001b[0;36m_read\u001b[0;34m(filepath_or_buffer, kwds)\u001b[0m\n\u001b[1;32m    618\u001b[0m \u001b[0;34m\u001b[0m\u001b[0m\n\u001b[1;32m    619\u001b[0m     \u001b[0;31m# Create the parser.\u001b[0m\u001b[0;34m\u001b[0m\u001b[0;34m\u001b[0m\u001b[0m\n\u001b[0;32m--> 620\u001b[0;31m     \u001b[0mparser\u001b[0m \u001b[0;34m=\u001b[0m \u001b[0mTextFileReader\u001b[0m\u001b[0;34m(\u001b[0m\u001b[0mfilepath_or_buffer\u001b[0m\u001b[0;34m,\u001b[0m \u001b[0;34m**\u001b[0m\u001b[0mkwds\u001b[0m\u001b[0;34m)\u001b[0m\u001b[0;34m\u001b[0m\u001b[0;34m\u001b[0m\u001b[0m\n\u001b[0m\u001b[1;32m    621\u001b[0m \u001b[0;34m\u001b[0m\u001b[0m\n\u001b[1;32m    622\u001b[0m     \u001b[0;32mif\u001b[0m \u001b[0mchunksize\u001b[0m \u001b[0;32mor\u001b[0m \u001b[0miterator\u001b[0m\u001b[0;34m:\u001b[0m\u001b[0;34m\u001b[0m\u001b[0;34m\u001b[0m\u001b[0m\n",
            "\u001b[0;32m/usr/local/lib/python3.10/dist-packages/pandas/io/parsers/readers.py\u001b[0m in \u001b[0;36m__init__\u001b[0;34m(self, f, engine, **kwds)\u001b[0m\n\u001b[1;32m   1618\u001b[0m \u001b[0;34m\u001b[0m\u001b[0m\n\u001b[1;32m   1619\u001b[0m         \u001b[0mself\u001b[0m\u001b[0;34m.\u001b[0m\u001b[0mhandles\u001b[0m\u001b[0;34m:\u001b[0m \u001b[0mIOHandles\u001b[0m \u001b[0;34m|\u001b[0m \u001b[0;32mNone\u001b[0m \u001b[0;34m=\u001b[0m \u001b[0;32mNone\u001b[0m\u001b[0;34m\u001b[0m\u001b[0;34m\u001b[0m\u001b[0m\n\u001b[0;32m-> 1620\u001b[0;31m         \u001b[0mself\u001b[0m\u001b[0;34m.\u001b[0m\u001b[0m_engine\u001b[0m \u001b[0;34m=\u001b[0m \u001b[0mself\u001b[0m\u001b[0;34m.\u001b[0m\u001b[0m_make_engine\u001b[0m\u001b[0;34m(\u001b[0m\u001b[0mf\u001b[0m\u001b[0;34m,\u001b[0m \u001b[0mself\u001b[0m\u001b[0;34m.\u001b[0m\u001b[0mengine\u001b[0m\u001b[0;34m)\u001b[0m\u001b[0;34m\u001b[0m\u001b[0;34m\u001b[0m\u001b[0m\n\u001b[0m\u001b[1;32m   1621\u001b[0m \u001b[0;34m\u001b[0m\u001b[0m\n\u001b[1;32m   1622\u001b[0m     \u001b[0;32mdef\u001b[0m \u001b[0mclose\u001b[0m\u001b[0;34m(\u001b[0m\u001b[0mself\u001b[0m\u001b[0;34m)\u001b[0m \u001b[0;34m->\u001b[0m \u001b[0;32mNone\u001b[0m\u001b[0;34m:\u001b[0m\u001b[0;34m\u001b[0m\u001b[0;34m\u001b[0m\u001b[0m\n",
            "\u001b[0;32m/usr/local/lib/python3.10/dist-packages/pandas/io/parsers/readers.py\u001b[0m in \u001b[0;36m_make_engine\u001b[0;34m(self, f, engine)\u001b[0m\n\u001b[1;32m   1878\u001b[0m                 \u001b[0;32mif\u001b[0m \u001b[0;34m\"b\"\u001b[0m \u001b[0;32mnot\u001b[0m \u001b[0;32min\u001b[0m \u001b[0mmode\u001b[0m\u001b[0;34m:\u001b[0m\u001b[0;34m\u001b[0m\u001b[0;34m\u001b[0m\u001b[0m\n\u001b[1;32m   1879\u001b[0m                     \u001b[0mmode\u001b[0m \u001b[0;34m+=\u001b[0m \u001b[0;34m\"b\"\u001b[0m\u001b[0;34m\u001b[0m\u001b[0;34m\u001b[0m\u001b[0m\n\u001b[0;32m-> 1880\u001b[0;31m             self.handles = get_handle(\n\u001b[0m\u001b[1;32m   1881\u001b[0m                 \u001b[0mf\u001b[0m\u001b[0;34m,\u001b[0m\u001b[0;34m\u001b[0m\u001b[0;34m\u001b[0m\u001b[0m\n\u001b[1;32m   1882\u001b[0m                 \u001b[0mmode\u001b[0m\u001b[0;34m,\u001b[0m\u001b[0;34m\u001b[0m\u001b[0;34m\u001b[0m\u001b[0m\n",
            "\u001b[0;32m/usr/local/lib/python3.10/dist-packages/pandas/io/common.py\u001b[0m in \u001b[0;36mget_handle\u001b[0;34m(path_or_buf, mode, encoding, compression, memory_map, is_text, errors, storage_options)\u001b[0m\n\u001b[1;32m    871\u001b[0m         \u001b[0;32mif\u001b[0m \u001b[0mioargs\u001b[0m\u001b[0;34m.\u001b[0m\u001b[0mencoding\u001b[0m \u001b[0;32mand\u001b[0m \u001b[0;34m\"b\"\u001b[0m \u001b[0;32mnot\u001b[0m \u001b[0;32min\u001b[0m \u001b[0mioargs\u001b[0m\u001b[0;34m.\u001b[0m\u001b[0mmode\u001b[0m\u001b[0;34m:\u001b[0m\u001b[0;34m\u001b[0m\u001b[0;34m\u001b[0m\u001b[0m\n\u001b[1;32m    872\u001b[0m             \u001b[0;31m# Encoding\u001b[0m\u001b[0;34m\u001b[0m\u001b[0;34m\u001b[0m\u001b[0m\n\u001b[0;32m--> 873\u001b[0;31m             handle = open(\n\u001b[0m\u001b[1;32m    874\u001b[0m                 \u001b[0mhandle\u001b[0m\u001b[0;34m,\u001b[0m\u001b[0;34m\u001b[0m\u001b[0;34m\u001b[0m\u001b[0m\n\u001b[1;32m    875\u001b[0m                 \u001b[0mioargs\u001b[0m\u001b[0;34m.\u001b[0m\u001b[0mmode\u001b[0m\u001b[0;34m,\u001b[0m\u001b[0;34m\u001b[0m\u001b[0;34m\u001b[0m\u001b[0m\n",
            "\u001b[0;31mFileNotFoundError\u001b[0m: [Errno 2] No such file or directory: '/content/dosya_yeni7.csv'"
          ]
        }
      ]
    },
    {
      "cell_type": "markdown",
      "metadata": {
        "id": "f24jCn1GkMKP"
      },
      "source": [
        "\n",
        "\n",
        "```\n",
        "# Bu, kod` olarak biçimlendirilmiştir`\n",
        "```\n",
        "\n",
        "# Öznitelik Tanımlamaları\n",
        "Burada atom ve bağ özniteliklerini tanımladığımız AtomFeaturizer ve BondFeaturizer Class'larını tanımlıyoruz"
      ]
    },
    {
      "cell_type": "code",
      "execution_count": null,
      "metadata": {
        "id": "GeUuEDK3LWb8"
      },
      "outputs": [],
      "source": [
        "class Featurizer:\n",
        "    # istediğimiz özellikleri $allowable_sets dictionary değişkeninde göndereceğiz\n",
        "    def __init__(self, allowable_sets):\n",
        "        self.dim = 0\n",
        "        self.features_mapping = {}\n",
        "        for k, s in allowable_sets.items():\n",
        "            s = sorted(list(s))\n",
        "            self.features_mapping[k] = dict(zip(s, range(self.dim, len(s) + self.dim)))\n",
        "            self.dim += len(s)\n",
        "\n",
        "    def encode(self, inputs):\n",
        "        output = np.zeros((self.dim,))\n",
        "        for name_feature, feature_mapping in self.features_mapping.items():\n",
        "            feature = getattr(self, name_feature)(inputs)\n",
        "            if feature not in feature_mapping:\n",
        "                continue\n",
        "            output[feature_mapping[feature]] = 1.0\n",
        "        return output\n",
        "\n",
        "\n",
        "class AtomFeaturizer(Featurizer):\n",
        "    def __init__(self, allowable_sets):\n",
        "        super().__init__(allowable_sets)\n",
        "\n",
        "    # Element simgesi\n",
        "    # def symbol(self, atom):\n",
        "    #   return atom.GetSymbol()\n",
        "    # Değerlik elektron sayısı bir elementin atomlarının oluşturabildiği kimyasal bağların sayısına denir.\n",
        "    # Başka bir deyişle bir elementin birleşme yeteneğinin ölçüsüdür.\n",
        "    def n_valence(self, atom):\n",
        "        return atom.GetTotalValence()\n",
        "    \"\"\"\"\"\"\n",
        "    def n_number(self, atom):\n",
        "        return atom.GetAtomicNum()\n",
        "\n",
        "    def n_degree(self, atom):\n",
        "        return atom.GetDegree()\n",
        "\n",
        "    # def formal_charge(self, atom):\n",
        "    #     return atom.GetFormalCharge()\n",
        "\n",
        "    def is_aromatic(self, atom):\n",
        "        return atom.GetIsAromatic()\n",
        "\n",
        "    def n_radical_electrons(self, atom):\n",
        "        return atom.GetNumRadicalElectrons()\n",
        "\n",
        "    def is_in_ring(self, atom):\n",
        "        return atom.IsInRing()\n",
        "\n",
        "    # def chiral_tag(self, atom):\n",
        "    #     return atom.GetChiralTag().name.lower()\n",
        "    \"\"\"\"\"\"\n",
        "    # Molekül'ün sahip olduğu hidrojen sayısı\n",
        "    def n_hydrogens(self, atom):\n",
        "        return atom.GetTotalNumHs()\n",
        "\n",
        "    # Hibridizasyon, bir atomun farklı orbitallerinin aynı hibrit orbitalleri oluşturduğu kimyasal bir süreçtir.\n",
        "    # s, sp, sp2, sp3 Şeklinde olabilir\n",
        "    def hybridization(self, atom):\n",
        "        return atom.GetHybridization().name.lower()\n",
        "\n",
        "\n",
        "class BondFeaturizer(Featurizer):\n",
        "    def __init__(self, allowable_sets):\n",
        "        super().__init__(allowable_sets)\n",
        "        self.dim += 1\n",
        "\n",
        "    def encode(self, bond):\n",
        "        output = np.zeros((self.dim,))\n",
        "        if bond is None:\n",
        "            output[-1] = 1.0\n",
        "            return output\n",
        "        output = super().encode(bond)\n",
        "        return output\n",
        "\n",
        "    # Kimyasal bağ, atomları birbirine bağlayan ve bir arada kalmalarını sağlayan kuvvettir\n",
        "    # Tekli, çiftli, üçlü veya aromatik olabilir\n",
        "    def bond_type(self, bond):\n",
        "        return bond.GetBondType().name.lower()\n",
        "\n",
        "\n",
        "    # Kimyada konjuge bir sistem, genel olarak molekülün genel enerjisini düşüren ve stabiliteyi arttıran bir p-orbitaller sistemidir.\n",
        "    def conjugated(self, bond):\n",
        "        return bond.GetIsConjugated()\n",
        "\n",
        "\n",
        "# Generate ettiğimiz Class'ların örneklerini oluşturuyoruz\n",
        "atom_featurizer = AtomFeaturizer(\n",
        "    allowable_sets={\n",
        "       #  \"symbol\": {\"B\", \"Br\", \"C\", \"Ca\", \"Cl\", \"F\", \"H\", \"I\", \"N\", \"Na\", \"O\", \"P\", \"S\"},\n",
        "        \"n_number\" : {1, 5, 6, 8, 9, 11, 15, 16, 17, 20, 35, 53},\n",
        "        \"n_valence\": {0, 1, 2, 3, 4, 5, 6},\n",
        "        \"n_hydrogens\": {0, 1, 2, 3, 4},\n",
        "        \"hybridization\": {\"s\", \"sp\", \"sp2\", \"sp3\"},\n",
        "        \"n_degree\": {0, 1, 2, 3, 4, 5, 6},\n",
        "        # \"formal_charge\": {-2, -1, 0, 1, 2},\n",
        "        \"n_radical_electrons\": {0, 1, 2, 3, 4},\n",
        "        \"is_in_ring\": {True, False},\n",
        "        # \"chiral_tag\": {\"chi_tetrahedral_cw\", \"chi_tetrahedral_ccw\"},\n",
        "    }\n",
        ")\n",
        "\n",
        "bond_featurizer = BondFeaturizer(\n",
        "    allowable_sets={\n",
        "        \"bond_type\": {\"single\", \"double\", \"triple\", \"aromatic\"},\n",
        "        \"conjugated\": {True, False},\n",
        "    }\n",
        ")"
      ]
    },
    {
      "cell_type": "markdown",
      "metadata": {
        "id": "kbnLlvdqu3TF"
      },
      "source": [
        "\n",
        "\n",
        "> # !!! Önemli: burada elimizdeki verisetini tensorflow ile kuracağımız geometrik derin öğrenme mimarsinin anlayacağı hale getiriyoruz\n",
        "\n"
      ]
    },
    {
      "cell_type": "code",
      "execution_count": null,
      "metadata": {
        "id": "1DZ8IuO6LZes"
      },
      "outputs": [],
      "source": [
        "\n",
        "# RdKit kütüphanesi ile smiles string'ten molecule nesnesine geçiş yapıyoruz\n",
        "def molecule_from_smiles(smiles):\n",
        "    molecule = Chem.MolFromSmiles(smiles, sanitize=False)\n",
        "    flag = Chem.SanitizeMol(molecule, catchErrors=True)\n",
        "    if flag != Chem.SanitizeFlags.SANITIZE_NONE:\n",
        "        Chem.SanitizeMol(molecule, sanitizeOps=Chem.SanitizeFlags.SANITIZE_ALL ^ flag)\n",
        "    Chem.AssignStereochemistry(molecule, cleanIt=True, force=True)\n",
        "    return molecule\n",
        "\n",
        "# Şimdi molekül nesnesinden kuracağımız derin öğrenme mimarisinin okuyabileceği graph veri yapısına geçiş yapıyoruz\n",
        "def graph_from_molecule(molecule):\n",
        "    # graph'ı boş şekilde başlatıyoruz\n",
        "    atom_features = []\n",
        "    bond_features = []\n",
        "    pair_indices = []\n",
        "\n",
        "    for atom in molecule.GetAtoms():\n",
        "        atom_features.append(atom_featurizer.encode(atom))\n",
        "\n",
        "        # Burası çok önemli !!!\n",
        "        # Burada oluşturulacak graph versinin komşuluk matrisindeki diagonal'ı tamamen 1 yapıyoruz\n",
        "        # çünkü message passing adımında ger bir node için kendi bilgisi de oluşturulacak \"message'a\" eklenmeli\n",
        "        pair_indices.append([atom.GetIdx(), atom.GetIdx()])\n",
        "        bond_features.append(bond_featurizer.encode(None))\n",
        "\n",
        "        for neighbor in atom.GetNeighbors():\n",
        "            bond = molecule.GetBondBetweenAtoms(atom.GetIdx(), neighbor.GetIdx())\n",
        "            pair_indices.append([atom.GetIdx(), neighbor.GetIdx()])\n",
        "            bond_features.append(bond_featurizer.encode(bond))\n",
        "\n",
        "    return np.array(atom_features), np.array(bond_features), np.array(pair_indices)\n",
        "\n",
        "# Yukarıda ki sınıfın hemen hemen aynısı burada smiles string'ten direkt graph veri yapısına geçiş yapıyoruz\n",
        "def graphs_from_smiles(smiles_list):\n",
        "    # graph'ları boş şekilde başlatıyoruz\n",
        "    atom_features_list = []\n",
        "    bond_features_list = []\n",
        "    pair_indices_list = []\n",
        "\n",
        "    for smiles in smiles_list:\n",
        "        # smiles'tan molecüle geçiş\n",
        "        molecule = molecule_from_smiles(smiles)\n",
        "        # molekül'den graph'a geçiş\n",
        "        atom_features, bond_features, pair_indices = graph_from_molecule(molecule)\n",
        "\n",
        "        atom_features_list.append(atom_features)\n",
        "        bond_features_list.append(bond_features)\n",
        "        pair_indices_list.append(pair_indices)\n",
        "\n",
        "    # Listeler ragged tensor'lerine çeviriliyor daha sonra tf.data.Dataset olarak kullanmak için\n",
        "    return (\n",
        "        tf.ragged.constant(atom_features_list, dtype=tf.float32),\n",
        "        tf.ragged.constant(bond_features_list, dtype=tf.float32),\n",
        "        tf.ragged.constant(pair_indices_list, dtype=tf.int64),\n",
        "    )\n",
        "\n",
        "\n",
        "# dataframe karıştırılıyor\n",
        "permuted_indices = np.random.permutation(np.arange(df.shape[0]))\n",
        "permuted_indices2 = np.random.permutation(np.arange(hive_df.shape[0]))\n",
        "\n",
        "# 80% train\n",
        "train_index = permuted_indices[: int(df.shape[0] * 0.80)]\n",
        "x_train = graphs_from_smiles(df.iloc[train_index].smiles)\n",
        "y_train = df.iloc[train_index].HIV_active\n",
        "\n",
        "# 19% validation\n",
        "valid_index = permuted_indices[int(df.shape[0] * 0.80) : int(df.shape[0] * 0.95)]\n",
        "x_valid = graphs_from_smiles(df.iloc[valid_index].smiles)\n",
        "y_valid = df.iloc[valid_index].HIV_active\n",
        "\n",
        "# 10% test\n",
        "test_index = range(hive_df.shape[0])\n",
        "x_test = graphs_from_smiles(hive_df.iloc[test_index].smiles)\n",
        "y_test = hive_df.iloc[test_index].HIV_active"
      ]
    },
    {
      "cell_type": "markdown",
      "metadata": {
        "id": "65LEP3wwYF0T"
      },
      "source": [
        "\n",
        "\n",
        "> # Bu bölümde veri setini neural network'te verimli bir şekilde işletebileceğimiz batch'ler haline getiriyoruz.\n",
        "\n"
      ]
    },
    {
      "cell_type": "code",
      "execution_count": null,
      "metadata": {
        "id": "VQCYTPT0Lxbg"
      },
      "outputs": [],
      "source": [
        "def prepare_batch(x_batch, y_batch):\n",
        "\n",
        "    atom_features, bond_features, pair_indices = x_batch\n",
        "\n",
        "    # her bir graph için atom ve bağ sayısını alıyoruz\n",
        "    num_atoms = atom_features.row_lengths()\n",
        "    num_bonds = bond_features.row_lengths()\n",
        "\n",
        "    molecule_indices = tf.range(len(num_atoms))\n",
        "    molecule_indicator = tf.repeat(molecule_indices, num_atoms)\n",
        "\n",
        "\n",
        "    # elde edilen bu subgraph'ları global bir graph'ta bileştiriyoruz\n",
        "    # burda her bir subgraph diğerlerinden ayrılmıştır\n",
        "    gather_indices = tf.repeat(molecule_indices[:-1], num_bonds[1:])\n",
        "    increment = tf.cumsum(num_atoms[:-1])\n",
        "    increment = tf.pad(tf.gather(increment, gather_indices), [(num_bonds[0], 0)])\n",
        "    pair_indices = pair_indices.merge_dims(outer_axis=0, inner_axis=1).to_tensor()\n",
        "    pair_indices = pair_indices + increment[:, tf.newaxis]\n",
        "    atom_features = atom_features.merge_dims(outer_axis=0, inner_axis=1).to_tensor()\n",
        "    bond_features = bond_features.merge_dims(outer_axis=0, inner_axis=1).to_tensor()\n",
        "\n",
        "\n",
        "    return (atom_features, bond_features, pair_indices, molecule_indicator), y_batch\n",
        "\n",
        "# şimdi yukarıda tanımlanan fonksiyonu burada dekoratör tasarım kalıbına benzer şekilde aşağıdaki fonksiyonun return ifadesindeki map() fonksiyonuna geçiyoruz\n",
        "# böylece X, y parametrelerini de prepare_batch() fonksiyonuna geçilmiş oluyor.\n",
        "# böylelikle verisetiminizi elde edeceğimiz fonksiyonu ileride kullanabileceğiz\n",
        "def MPNNDataset(X, y, batch_size=48, shuffle=False):\n",
        "    dataset = tf.data.Dataset.from_tensor_slices((X, (y)))\n",
        "    if shuffle:\n",
        "        dataset = dataset.shuffle(1024)\n",
        "    return dataset.batch(batch_size).map(prepare_batch, -1).prefetch(-1)"
      ]
    },
    {
      "cell_type": "markdown",
      "metadata": {
        "id": "UJlcU1vCdxjK"
      },
      "source": [
        "\n",
        "\n",
        "> # Şimdi neural network'ü oluşturmaya başlıyoruz\n",
        "Oluşturacağımız neural network bit MPNN modelidir. Yazacağımız MPNN modeli 3 kısımdan oluşuyor bunlar message passing, readout, ve classification.\n",
        "\n",
        "**Message passing** adımının kendisi iki bölümden oluşur:\n",
        "\n",
        "1- **Edge Network :** Komşu node'lardan gelen mesajları edge feature'lara bağlı olarak embedding'i hesaplanan node'a iletir.\n",
        "\n",
        "2- **The gated recurrent unit (GRU)**: Bir düğümün en son durumunu girdi olarak alır ve bu düğümü kendisinin önceki durumlarına göre günceller, yani bir düğümün var olan durumu GRU'da girdi olarak kullanılırken önceki durumlar bellekte tutularak işlem yapılır, bu yapı **RNN**'e oldukça benzemektedir.\n",
        "\n"
      ]
    },
    {
      "cell_type": "code",
      "execution_count": null,
      "metadata": {
        "id": "ztAV2LA2L07D"
      },
      "outputs": [],
      "source": [
        "class EdgeNetwork(layers.Layer):\n",
        "    def build(self, input_shape):\n",
        "        self.atom_dim = input_shape[0][-1]\n",
        "        self.bond_dim = input_shape[1][-1]\n",
        "        self.kernel = self.add_weight(\n",
        "            shape=(self.bond_dim, self.atom_dim * self.atom_dim),\n",
        "            initializer=\"glorot_uniform\",\n",
        "            name=\"kernel\",\n",
        "        )\n",
        "        self.bias = self.add_weight(\n",
        "            shape=(self.atom_dim * self.atom_dim), initializer=\"zeros\", name=\"bias\",\n",
        "        )\n",
        "        self.built = True\n",
        "\n",
        "    def call(self, inputs):\n",
        "        atom_features, bond_features, pair_indices = inputs\n",
        "        bond_features = tf.matmul(bond_features, self.kernel) + self.bias\n",
        "        bond_features = tf.reshape(bond_features, (-1, self.atom_dim, self.atom_dim))\n",
        "        atom_features_neighbors = tf.gather(atom_features, pair_indices[:, 1])\n",
        "        atom_features_neighbors = tf.expand_dims(atom_features_neighbors, axis=-1)\n",
        "        transformed_features = tf.matmul(bond_features, atom_features_neighbors)\n",
        "        transformed_features = tf.squeeze(transformed_features, axis=-1)\n",
        "        aggregated_features = tf.math.unsorted_segment_sum(\n",
        "            transformed_features,\n",
        "            pair_indices[:, 0],\n",
        "            num_segments=tf.shape(atom_features)[0],\n",
        "        )\n",
        "        return aggregated_features\n",
        "\n",
        "\n",
        "class MessagePassing(layers.Layer):\n",
        "    def __init__(self, units, steps=4, **kwargs):\n",
        "        super().__init__(**kwargs)\n",
        "        self.units = units\n",
        "        self.steps = steps\n",
        "\n",
        "    def build(self, input_shape):\n",
        "        self.atom_dim = input_shape[0][-1]\n",
        "        self.message_step = EdgeNetwork()\n",
        "        self.pad_length = max(0, self.units - self.atom_dim)\n",
        "        self.update_step = layers.GRUCell(self.atom_dim + self.pad_length)\n",
        "        self.built = True\n",
        "\n",
        "    def call(self, inputs):\n",
        "        atom_features, bond_features, pair_indices = inputs\n",
        "\n",
        "\n",
        "        atom_features_updated = tf.pad(atom_features, [(0, 0), (0, self.pad_length)])\n",
        "\n",
        "\n",
        "        for i in range(self.steps):\n",
        "\n",
        "            atom_features_aggregated = self.message_step(\n",
        "                [atom_features_updated, bond_features, pair_indices]\n",
        "            )\n",
        "\n",
        "\n",
        "            atom_features_updated, _ = self.update_step(\n",
        "                atom_features_aggregated, atom_features_updated\n",
        "            )\n",
        "        return atom_features_updated"
      ]
    },
    {
      "cell_type": "markdown",
      "metadata": {
        "id": "ag-ab9ocv1wL"
      },
      "source": [
        "\n",
        "\n",
        "\n",
        "> # **Readout**:\n",
        "\n",
        " Message passing adımı bittiğinde prepare_batch() fonksiyonunda merge ettiğimiz molekülleri tekrar ayırıyoruz.\n",
        " Burada bazı önemli işlemler var hocam hatırlarsanız üst section'larda neural network'e verebilmek için graph'ları batch haline getirmiştik yani basitçe birleştirmiştik, burada o birleşen graplar'ı ayırıyoruz ve dolguluyoruz dolgulama işlemini aşağıda dolgulama yaptığımız yerde açıkladım, daha sonra dolguların eğitimi engellemediğinden emin olmak için en son olarak maskeleme işlemi yapıyoruz.\n",
        "\n",
        "\n"
      ]
    },
    {
      "cell_type": "code",
      "execution_count": null,
      "metadata": {
        "id": "bsGCKNDjL4qJ"
      },
      "outputs": [],
      "source": [
        "class PartitionPadding(layers.Layer):\n",
        "    def __init__(self, batch_size, **kwargs):\n",
        "        super().__init__(**kwargs)\n",
        "        self.batch_size = batch_size\n",
        "\n",
        "    def call(self, inputs):\n",
        "\n",
        "        atom_features, molecule_indicator = inputs\n",
        "\n",
        "        # subgraph'ları batch içerisinden geri ayıklıyoruz\n",
        "        atom_features_partitioned = tf.dynamic_partition(\n",
        "            atom_features, molecule_indicator, self.batch_size\n",
        "        )\n",
        "\n",
        "        # bu adımı tezde açıklasam daha iyi olacak hocam\n",
        "        # burda basitçe elde edilen subraph'lar şişirilip(yani en yüksek node sayısına sahip olan graph ile node sayısı eşitlenecek şekilde) stack haline getiriliyor\n",
        "        num_atoms = [tf.shape(f)[0] for f in atom_features_partitioned]\n",
        "        max_num_atoms = tf.reduce_max(num_atoms)\n",
        "        atom_features_stacked = tf.stack(\n",
        "            [\n",
        "                tf.pad(f, [(0, max_num_atoms - n), (0, 0)])\n",
        "                for f, n in zip(atom_features_partitioned, num_atoms)\n",
        "            ],\n",
        "            axis=0,\n",
        "        )\n",
        "\n",
        "        # Batch sayısına bağlı olarak bazı subgraph'lar boş gelebilir onları çıkarmamız gerekiyor onu burada yapıyoruz\n",
        "        gather_indices = tf.where(tf.reduce_sum(atom_features_stacked, (1, 2)) != 0)\n",
        "        gather_indices = tf.squeeze(gather_indices, axis=-1)\n",
        "        return tf.gather(atom_features_stacked, gather_indices, axis=0)\n",
        "\n",
        "# son olarak, tensör Transformer'dan geçirilir ve ardından ortalama havuzlama yapılır.\n",
        "class TransformerEncoderReadout(layers.Layer):\n",
        "    def __init__(\n",
        "        self, num_heads=8, embed_dim=92, dense_dim=92, batch_size=48, **kwargs\n",
        "    ):\n",
        "        super().__init__(**kwargs)\n",
        "\n",
        "        self.partition_padding = PartitionPadding(batch_size)\n",
        "        self.attention = layers.MultiHeadAttention(num_heads, embed_dim)\n",
        "        self.dense_proj = keras.Sequential(\n",
        "            [layers.Dense(dense_dim, activation=\"relu\"), layers.Dense(embed_dim),]\n",
        "        )\n",
        "        self.layernorm_1 = layers.LayerNormalization()\n",
        "        self.layernorm_2 = layers.LayerNormalization()\n",
        "        self.max_pooling = layers.GlobalMaxPooling1D()\n",
        "\n",
        "    def call(self, inputs):\n",
        "        x = self.partition_padding(inputs)\n",
        "        padding_mask = tf.reduce_any(tf.not_equal(x, 0.0), axis=-1)\n",
        "        padding_mask = padding_mask[:, tf.newaxis, tf.newaxis, :]\n",
        "        attention_output = self.attention(x, x, attention_mask=padding_mask)\n",
        "        proj_input = self.layernorm_1(x + attention_output)\n",
        "        proj_output = self.layernorm_2(proj_input + self.dense_proj(proj_input))\n",
        "        return self.max_pooling(proj_output)"
      ]
    },
    {
      "cell_type": "code",
      "execution_count": null,
      "metadata": {
        "id": "RcVjv-I-953K"
      },
      "outputs": [],
      "source": [
        "def f1(y_true, y_pred):\n",
        "    true_positives = K.sum(K.round(K.clip(y_true * y_pred, 0, 1)))\n",
        "    possible_positives = K.sum(K.round(K.clip(y_true, 0, 1)))\n",
        "    predicted_positives = K.sum(K.round(K.clip(y_pred, 0, 1)))\n",
        "    precision = true_positives / (predicted_positives + K.epsilon())\n",
        "    recall = true_positives / (possible_positives + K.epsilon())\n",
        "    f1_val = 2*(precision*recall)/(precision+recall+K.epsilon())\n",
        "    return f1_val\n",
        "\n",
        "def sensitivity(y_true, y_pred):\n",
        "    true_positives = K.sum(K.round(K.clip(y_true * y_pred, 0, 1)))\n",
        "    possible_positives = K.sum(K.round(K.clip(y_true, 0, 1)))\n",
        "    return true_positives / (possible_positives + K.epsilon())\n",
        "\n",
        "def specificity(y_true, y_pred):\n",
        "    true_negatives = K.sum(K.round(K.clip((1-y_true) * (1-y_pred), 0, 1)))\n",
        "    possible_negatives = K.sum(K.round(K.clip(1-y_true, 0, 1)))\n",
        "    return true_negatives / (possible_negatives + K.epsilon())\n",
        "\n",
        "def recall(y_true, y_pred):\n",
        "        \"\"\"Recall metric.\n",
        "\n",
        "        Only computes a batch-wise average of recall.\n",
        "\n",
        "        Computes the recall, a metric for multi-label classification of\n",
        "        how many relevant items are selected.\n",
        "        \"\"\"\n",
        "        true_positives = K.sum(K.round(K.clip(y_true * y_pred, 0, 1)))\n",
        "        possible_positives = K.sum(K.round(K.clip(y_true, 0, 1)))\n",
        "        recall = true_positives / (possible_positives + K.epsilon())\n",
        "        return recall\n",
        "\n",
        "def npv(y_actual, y_pred):\n",
        "\n",
        "    negative_value = 1.\n",
        "\n",
        "    if y_pred.shape[-1]==2: # last activation: softmax for binary classification\n",
        "        y_actual = tf.cast(tf.argmax(y_actual, -1), tf.float32) # get true class\n",
        "        y_pred = tf.cast(tf.argmax(y_pred, -1), tf.float32) # get pred class\n",
        "\n",
        "    else: # last activation: sigmoid for binary classification\n",
        "        y_pred = tf.round(y_pred) # round probability\n",
        "\n",
        "    # if (y_pred == negative_value) and (y_pred == negative_value)\n",
        "    tn = tf.reduce_sum(tf.cast(tf.logical_and(tf.equal(y_pred, negative_value),\n",
        "                                              tf.equal(y_pred, y_actual)), tf.float32))\n",
        "    # if (y_pred == negative_value) and (y_pred != negative_value)\n",
        "    fn = tf.reduce_sum(tf.cast(tf.logical_and(tf.equal(y_pred, negative_value),\n",
        "                                              tf.not_equal(y_pred, y_actual)), tf.float32))\n",
        "\n",
        "    result = tn / ((tn + fn) + K.epsilon()) # add epsilon to avoid nan\n",
        "    return result"
      ]
    },
    {
      "cell_type": "markdown",
      "metadata": {
        "id": "81e61OVXDYoa"
      },
      "source": [
        "\n",
        "\n",
        "> # MPNN\n",
        "\n",
        "Bu section'da MPNN modelimizi kuruyoruz **message passing** ve **readout** adımlarına ek olarak 2 adet **dense** layer'ı daha eklendi\n",
        "\n"
      ]
    },
    {
      "cell_type": "code",
      "execution_count": null,
      "metadata": {
        "id": "m6gnwFhZL7Ni"
      },
      "outputs": [],
      "source": [
        "def MPNNModel(\n",
        "    atom_dim,\n",
        "    bond_dim,\n",
        "    batch_size=48,\n",
        "    message_units=92,\n",
        "    message_steps=10,\n",
        "    num_attention_heads=8,\n",
        "    dense_units=92,\n",
        "):\n",
        "\n",
        "\n",
        "    atom_features = layers.Input((atom_dim), dtype=\"float32\", name=\"atom_features\")\n",
        "    bond_features = layers.Input((bond_dim), dtype=\"float32\", name=\"bond_features\")\n",
        "    pair_indices = layers.Input((2), dtype=\"int32\", name=\"pair_indices\")\n",
        "    molecule_indicator = layers.Input((), dtype=\"int32\", name=\"molecule_indicator\")\n",
        "\n",
        "    x = MessagePassing(message_units, message_steps)(\n",
        "        [atom_features, bond_features, pair_indices]\n",
        "    )\n",
        "\n",
        "    x = TransformerEncoderReadout(\n",
        "        num_attention_heads, message_units, dense_units, batch_size\n",
        "    )([x, molecule_indicator])\n",
        "\n",
        "    x = layers.Dense(dense_units, activation=\"relu\")(x)\n",
        "    x = layers.Dropout(0.1)(x)\n",
        "    x = layers.Dense(dense_units//2, activation=\"relu\")(x)\n",
        "    x = layers.Dropout(0.1)(x)\n",
        "    x = layers.Dense(dense_units//4, activation=\"relu\")(x)\n",
        "    x = layers.Dropout(0.1)(x)\n",
        "    x = layers.Dense(1, activation=\"sigmoid\")(x)\n",
        "\n",
        "    model = keras.Model(\n",
        "        inputs=[atom_features, bond_features, pair_indices, molecule_indicator],\n",
        "        outputs=[x],\n",
        "    )\n",
        "    return model\n",
        "\n",
        "\n",
        "mpnn = MPNNModel(\n",
        "    atom_dim=x_train[0][0][0].shape[0], bond_dim=x_train[1][0][0].shape[0],\n",
        ")\n",
        "\n",
        "mpnn.compile(\n",
        "    loss=keras.losses.BinaryCrossentropy(),\n",
        "    optimizer=keras.optimizers.Adam(learning_rate=1e-5),\n",
        "    metrics=[keras.metrics.AUC(name=\"AUC\"),keras.metrics.BinaryAccuracy(name=\"accuracy\", dtype=None, threshold=0.5), f1, npv, keras.metrics.Precision(), tf.keras.metrics.SensitivityAtSpecificity(0.5)]\n",
        ")\n"
      ]
    },
    {
      "cell_type": "markdown",
      "metadata": {
        "id": "ojhGH9TIEXy1"
      },
      "source": [
        "\n",
        "\n",
        " > # Eğitime başlıyoruz ve modelin doğruluk metriklerini hesaplıyoruz\n",
        "\n"
      ]
    },
    {
      "cell_type": "code",
      "execution_count": null,
      "metadata": {
        "id": "Z0BrdmnE0EgA"
      },
      "outputs": [],
      "source": [
        "train_dataset = MPNNDataset(x_train, y_train)\n",
        "valid_dataset = MPNNDataset(x_valid, y_valid)\n",
        "test_dataset = MPNNDataset(x_test, y_test)"
      ]
    },
    {
      "cell_type": "code",
      "execution_count": null,
      "metadata": {
        "id": "DYW8Faz5MBfC"
      },
      "outputs": [],
      "source": [
        "history = mpnn.fit(train_dataset, validation_data=valid_dataset, epochs=60, verbose=1)"
      ]
    },
    {
      "cell_type": "code",
      "execution_count": null,
      "metadata": {
        "id": "mDMM7DLHu9SG"
      },
      "outputs": [],
      "source": [
        "y_pred_keras = mpnn.predict(test_dataset)\n",
        "fpr_keras, tpr_keras, thresholds_keras = roc_curve(y_test, y_pred_keras)\n",
        "auc_keras = auc(fpr_keras, tpr_keras)"
      ]
    },
    {
      "cell_type": "code",
      "execution_count": null,
      "metadata": {
        "id": "KUXYS-l_Ylkm"
      },
      "outputs": [],
      "source": [
        "auc_keras"
      ]
    },
    {
      "cell_type": "markdown",
      "metadata": {
        "id": "VNGUHpvjEnS9"
      },
      "source": [
        "\n",
        "> # Doğruluk metriklerinin grafik haline getirilmesi (Üzerinde çalışıyorum)\n",
        "\n"
      ]
    },
    {
      "cell_type": "code",
      "execution_count": null,
      "metadata": {
        "id": "BHhykQ4SMPY8"
      },
      "outputs": [],
      "source": [
        "plt.figure(figsize=(10, 6))\n",
        "plt.plot(history.history[\"AUC\"], label=\"train AUC\")\n",
        "plt.plot(history.history[\"val_AUC\"], label=\"validation AUC\")\n",
        "plt.xlabel(\"Epochs\", fontsize=16)\n",
        "plt.ylabel(\"AUC\", fontsize=16)\n",
        "plt.legend(fontsize=16)\n",
        "\n",
        "plt.figure(figsize=(10, 6))\n",
        "plt.plot(history.history[\"f1\"], label=\"Train F1 Score\")\n",
        "plt.plot(history.history[\"val_f1\"], label=\"Validation F1 Score\")\n",
        "plt.xlabel(\"Epochs\", fontsize=16)\n",
        "plt.ylabel(\"F1 Score\", fontsize=16)\n",
        "plt.legend(fontsize=16)\n",
        "\n",
        "\n",
        "plt.figure(figsize=(10, 6))\n",
        "plt.plot(history.history[\"npv\"], label=\"Train NPV\")\n",
        "plt.plot(history.history[\"val_npv\"], label=\"Validation NPV\")\n",
        "plt.xlabel(\"Epochs\", fontsize=16)\n",
        "plt.ylabel(\"Negative Predictive Value\", fontsize=16)\n",
        "plt.legend(fontsize=16)\n",
        "\n",
        "plt.figure(figsize=(10, 6))\n",
        "plt.plot(history.history[\"precision_4\"], label=\"Train PPV\")\n",
        "plt.plot(history.history[\"val_precision_4\"], label=\"Validation PPV\")\n",
        "plt.xlabel(\"Epochs\", fontsize=16)\n",
        "plt.ylabel(\"Positive Predictive Value\", fontsize=16)\n",
        "plt.legend(fontsize=16)\n",
        "\n",
        "plt.figure(figsize=(10, 6))\n",
        "plt.plot([0, 1], [0, 1], 'k--')\n",
        "plt.plot(fpr_keras, tpr_keras, label='Keras (area = {:.3f})'.format(auc_keras))\n",
        "plt.xlabel('False positive rate')\n",
        "plt.ylabel('True positive rate')\n",
        "plt.title('ROC curve')\n",
        "plt.legend(loc='best')\n",
        "plt.show()\n"
      ]
    },
    {
      "cell_type": "code",
      "source": [
        "hive_df"
      ],
      "metadata": {
        "id": "8GS6m2xSk1-c"
      },
      "execution_count": null,
      "outputs": []
    },
    {
      "cell_type": "markdown",
      "metadata": {
        "id": "_pRqlDn3E0qq"
      },
      "source": [
        "\n",
        "> # Eğitilmiş modelle yapılan birkaç tahmin\n",
        "\n",
        "\n"
      ]
    },
    {
      "cell_type": "markdown",
      "metadata": {
        "id": "rGEn35cGNJCj"
      },
      "source": []
    },
    {
      "cell_type": "code",
      "execution_count": null,
      "metadata": {
        "id": "rO4VS_FJQvsd"
      },
      "outputs": [],
      "source": [
        "molecules2 = [molecule_from_smiles(hive_df.smiles.values[index])for index in test_index]\n",
        "smiles = [hive_df.smiles.values[index] for index in test_index]\n",
        "y_true = [hive_df.HIV_active.values[index] for index in test_index]\n",
        "y_pred = tf.squeeze(mpnn.predict(test_dataset), axis=1)\n",
        "\n",
        "legends = [f\"y_true/y_pred = {y_true[i]}/{y_pred[i]:.2f} \\n {smiles[i]}\" for i in range(len(smiles))]\n",
        "MolsToGridImage(molecules2, molsPerRow=2, legends=legends, subImgSize=(400, 400))\n"
      ]
    },
    {
      "cell_type": "code",
      "execution_count": null,
      "metadata": {
        "id": "tqbZ01g9EJgM"
      },
      "outputs": [],
      "source": [
        "generated_smiles = ['O=[N+]([O-])c1ccccc1S(=O)(=O)c1ccccc1',\n",
        "                    'Cn1c(Nc2ccccc2)ncc1OCP(=O)(O)OC1COC(n2cc(C)c(=O)[nH]c2=O)CC1N=[N+]=[N-]',\n",
        "                    'O=C(Cc1ccc(O)cc1)NCCCc1cccc(O)c1',\n",
        "                    'O=[N+]([O-])c1ccccc1S(=O)(=O)c1ccccc1',\n",
        "                    'CCCCCCCCCCCCCCCCCCCCCCCCCCCCCCCCCCCCCCCCCCCCCC(=O)C1COC(n2cc(C)c(=O)[nH]c2=O)CC1N=[N+]=[N-]',\n",
        "                    'COc1ccccc1C(=S)Nc1ccc(Cl)c(C(=O)OC(C)(C)C)c1',\n",
        "                    'O=C(O)c1ccccc1[N+](=O)[O-]',\n",
        "                    'N#CC(=O)NC(=O)CCC=CC1C(=O)C(=O)NCC(=S)NNC(=S)CS1C',\n",
        "                    'COC(=O)NC(=O)NC(=S)Nc1ccccc1',\n",
        "                    'O=[N+]([O-])c1ccccc1S(=O)(=O)c1ccccc1']"
      ]
    },
    {
      "cell_type": "code",
      "execution_count": null,
      "metadata": {
        "id": "k1h0NJnuaYds"
      },
      "outputs": [],
      "source": [
        "generated_smiles = ['O=C1N(NS(=O)(=O)CCCCC2=CCC=C2OC)C1=O',\n",
        " 'Cc1nn(C(=O)Cc2ccccc2)c2c1C(c1ccc(O)cc1)SC(=N)N2',\n",
        " 'COC(=O)c1cc(C)nc(C#N)=CCC(C)CCC1O']"
      ]
    },
    {
      "cell_type": "code",
      "execution_count": null,
      "metadata": {
        "id": "kHD1mtmEKEeo"
      },
      "outputs": [],
      "source": [
        "generated_smiles2 = [\"Cc1nn(C(=O)Cc2ccccc2)c2c1C(c1ccc(O)cc1)SC(=N)N2\", 'COc1ccc(NC(C)=CCC2CCC(CO)C2)c(=O)[nH]c1=O',\n",
        " 'Nc1ccc(C(=O)Nc2ccc(Cl)cc2)cc1C(=O)NC(C)=O', 'C[S+](=O)c1ccccc1C(=O)Nc1ccccc1[N+](=O)[O-]']"
      ]
    },
    {
      "cell_type": "code",
      "source": [
        "from rdkit.Chem import Descriptors\n",
        "mol = Chem.MolFromSmiles('C[S+](=O)c1ccccc1C(=O)Nc1ccccc1[N+](=O)[O-]')\n",
        "hDonorNum = Chem.Lipinski.NumHDonors(mol)\n",
        "hAcceptorNum = Chem.Lipinski.NumHAcceptors(mol)\n",
        "logp = Descriptors.MolLogP(mol)\n",
        "mol_weight = Descriptors.MolWt(mol)\n",
        "print(f'donor: {hDonorNum}, acceptor: {hAcceptorNum}, logp: {logp}, molweight: {mol_weight}')\n",
        "if hDonorNum <=5 and hAcceptorNum <= 10 and mol_weight <500 and logp <=5:\n",
        "  print(\"true\")"
      ],
      "metadata": {
        "id": "MB_GJMLNlCLZ"
      },
      "execution_count": null,
      "outputs": []
    },
    {
      "cell_type": "code",
      "execution_count": null,
      "metadata": {
        "id": "L2Yyshh3bryQ"
      },
      "outputs": [],
      "source": [
        "generated_graphs = graphs_from_smiles(generated_smiles2)\n",
        "generated_targets = pd.Series([1 for i in range(len(generated_smiles2))])"
      ]
    },
    {
      "cell_type": "code",
      "execution_count": null,
      "metadata": {
        "id": "ljW3kqxAbuEE"
      },
      "outputs": [],
      "source": [
        "generated_dataset = MPNNDataset(generated_graphs[:16], generated_targets[:16])"
      ]
    },
    {
      "cell_type": "code",
      "execution_count": null,
      "metadata": {
        "id": "QKCsjPq-bvq8"
      },
      "outputs": [],
      "source": [
        "y_pred = mpnn.predict(generated_dataset)"
      ]
    },
    {
      "cell_type": "code",
      "execution_count": null,
      "metadata": {
        "id": "wmUsjT0ebwSV"
      },
      "outputs": [],
      "source": [
        "y_pred"
      ]
    },
    {
      "cell_type": "code",
      "execution_count": null,
      "metadata": {
        "id": "cKZSqAddcXQG"
      },
      "outputs": [],
      "source": [
        "mols = [Chem.MolFromSmiles(i) for i in generated_smiles2]\n",
        "# legends = [f\"Prediction = {y_pred[i][0]:.2f} \\n\\n {generated_smiles2[i]}\" for i in range(len(generated_smiles2))]\n",
        "MolsToGridImage(mols, molsPerRow=3, subImgSize=(300, 300))"
      ]
    }
  ],
  "metadata": {
    "accelerator": "GPU",
    "colab": {
      "provenance": [],
      "include_colab_link": true
    },
    "kernelspec": {
      "display_name": "Python 3",
      "name": "python3"
    },
    "language_info": {
      "name": "python"
    },
    "gpuClass": "standard"
  },
  "nbformat": 4,
  "nbformat_minor": 0
}